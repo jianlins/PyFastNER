{
 "cells": [
  {
   "cell_type": "code",
   "execution_count": 1,
   "metadata": {},
   "outputs": [],
   "source": [
    "import unittest\n",
    "import random"
   ]
  },
  {
   "cell_type": "markdown",
   "metadata": {},
   "source": [
    "This notenook is to compare the performance among different implementation of intervaltrees."
   ]
  },
  {
   "cell_type": "code",
   "execution_count": 2,
   "metadata": {},
   "outputs": [],
   "source": [
    "\n",
    "to_build=[]\n",
    "to_search=[] \n",
    "def genData(to_build_size=1000000,search_size=1000000):\n",
    "    for i in range(0, 17*to_build_size, 17):\n",
    "        to_build.append((i, random.randrange(i + 1, i + 100), i))\n",
    "        \n",
    "    for i in range(0, 34*search_size, 34):\n",
    "        to_search.append((i, random.randrange(i + 1, i + 100), i))\n",
    "        \n",
    "genData()\n",
    "tree=None"
   ]
  },
  {
   "cell_type": "markdown",
   "metadata": {},
   "source": [
    "## intervaltree"
   ]
  },
  {
   "cell_type": "code",
   "execution_count": 13,
   "metadata": {},
   "outputs": [
    {
     "name": "stdout",
     "output_type": "stream",
     "text": [
      "CPU times: user 1min 2s, sys: 380 ms, total: 1min 3s\n",
      "Wall time: 1min 7s\n"
     ]
    }
   ],
   "source": [
    "%%time\n",
    "from intervaltree import IntervalTree\n",
    "tree = IntervalTree()\n",
    "for tup in to_build:\n",
    "    tree.addi(tup[0], tup[1], tup[2])\n"
   ]
  },
  {
   "cell_type": "code",
   "execution_count": 14,
   "metadata": {},
   "outputs": [
    {
     "name": "stdout",
     "output_type": "stream",
     "text": [
      "{Interval(0, 81, 0)}\n",
      "CPU times: user 1min 49s, sys: 231 ms, total: 1min 50s\n",
      "Wall time: 1min 59s\n"
     ]
    }
   ],
   "source": [
    "%%time\n",
    "for tar in to_search:\n",
    "    tree.overlap(tar[0],tar[1])\n",
    "    \n",
    "print(tree.overlap(20,30))    "
   ]
  },
  {
   "cell_type": "markdown",
   "metadata": {},
   "source": [
    "## quicksetx"
   ]
  },
  {
   "cell_type": "code",
   "execution_count": 13,
   "metadata": {},
   "outputs": [
    {
     "name": "stdout",
     "output_type": "stream",
     "text": [
      "CPU times: user 6.06 s, sys: 68.4 ms, total: 6.12 s\n",
      "Wall time: 6.31 s\n"
     ]
    }
   ],
   "source": [
    "%%time\n",
    "from quicksect import IntervalNode, Interval, IntervalTree\n",
    "tree = IntervalTree()\n",
    "for tup in to_build:\n",
    "    tree.insert(Interval(tup[0], tup[1], tup[2]))    "
   ]
  },
  {
   "cell_type": "code",
   "execution_count": 12,
   "metadata": {},
   "outputs": [
    {
     "name": "stdout",
     "output_type": "stream",
     "text": [
      "CPU times: user 5.6 s, sys: 63.8 ms, total: 5.66 s\n",
      "Wall time: 5.8 s\n"
     ]
    }
   ],
   "source": [
    "%%time\n",
    "from quicksectx import IntervalNode, Interval, IntervalTree\n",
    "tree = IntervalTree()\n",
    "for tup in to_build:\n",
    "    tree.insert(Interval(tup[0], tup[1], tup[2]))    "
   ]
  },
  {
   "cell_type": "code",
   "execution_count": 7,
   "metadata": {},
   "outputs": [
    {
     "name": "stdout",
     "output_type": "stream",
     "text": [
      "[Inv(17, 25, d=17)]\n",
      "CPU times: user 532 ms, sys: 0 ns, total: 532 ms\n",
      "Wall time: 542 ms\n"
     ]
    }
   ],
   "source": [
    "%%time\n",
    "for tar in to_search:\n",
    "    tree.search(tar[0],tar[1])\n",
    "    \n",
    "print(tree.search(20,30))    "
   ]
  },
  {
   "cell_type": "markdown",
   "metadata": {},
   "source": [
    "## kerneltree"
   ]
  },
  {
   "cell_type": "code",
   "execution_count": 8,
   "metadata": {},
   "outputs": [
    {
     "name": "stdout",
     "output_type": "stream",
     "text": [
      "CPU times: user 520 ms, sys: 16 ms, total: 536 ms\n",
      "Wall time: 569 ms\n"
     ]
    }
   ],
   "source": [
    "%%time\n",
    "from kerneltree import IntervalTree\n",
    "tree = IntervalTree()\n",
    "for tup in to_build:\n",
    "    tree.add(tup[0], tup[1], tup[2])\n",
    "\n"
   ]
  },
  {
   "cell_type": "code",
   "execution_count": 9,
   "metadata": {},
   "outputs": [
    {
     "name": "stdout",
     "output_type": "stream",
     "text": [
      "[(17, 25, 17)]\n",
      "CPU times: user 528 ms, sys: 7.66 ms, total: 536 ms\n",
      "Wall time: 546 ms\n"
     ]
    }
   ],
   "source": [
    "%%time\n",
    "for tar in to_search:\n",
    "    tree.search(tar[0],tar[1])    \n",
    "print(tree.search(20,30))    "
   ]
  },
  {
   "cell_type": "markdown",
   "metadata": {},
   "source": [
    "#### kerneltree has the best building time, but less optimal search time. Plus, it is on GPL license. So let's skip it."
   ]
  },
  {
   "cell_type": "code",
   "execution_count": null,
   "metadata": {},
   "outputs": [],
   "source": []
  }
 ],
 "metadata": {
  "jupytext": {
   "cell_metadata_filter": "-all",
   "notebook_metadata_filter": "-all",
   "text_representation": {
    "extension": ".py",
    "format_name": "light"
   }
  },
  "kernelspec": {
   "display_name": "Python 3",
   "language": "python",
   "name": "python3"
  },
  "language_info": {
   "codemirror_mode": {
    "name": "ipython",
    "version": 3
   },
   "file_extension": ".py",
   "mimetype": "text/x-python",
   "name": "python",
   "nbconvert_exporter": "python",
   "pygments_lexer": "ipython3",
   "version": "3.6.9"
  }
 },
 "nbformat": 4,
 "nbformat_minor": 2
}
